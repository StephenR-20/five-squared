{
 "cells": [
  {
   "cell_type": "markdown",
   "metadata": {},
   "source": [
    "# 5^2\n",
    "\n",
    "The goal of our metric was to find the easiet neighborhood to jaywalk in. To do this, we anaylzed data from three sets; Traffic Count Data, Speed Humps, and City Traffic Signs. The traffic counts are used to see car frequency and speed, and the other two sets are used to show how 'controlled' those cars are.\n",
    "\n",
    "We had debated using pedestrian/car collisions to see where people get hit most, but of the million columns, there was no neighborhood one. "
   ]
  },
  {
   "cell_type": "code",
   "execution_count": 2,
   "metadata": {},
   "outputs": [],
   "source": [
    "import pandas as pd\n",
    "import matplotlib.pyplot as plt\n",
    "traf=pd.read_csv(\"traffic.csv\")##   ye ol' imports"
   ]
  },
  {
   "cell_type": "code",
   "execution_count": 3,
   "metadata": {},
   "outputs": [
    {
     "data": {
      "text/html": [
       "<div>\n",
       "<style scoped>\n",
       "    .dataframe tbody tr th:only-of-type {\n",
       "        vertical-align: middle;\n",
       "    }\n",
       "\n",
       "    .dataframe tbody tr th {\n",
       "        vertical-align: top;\n",
       "    }\n",
       "\n",
       "    .dataframe thead th {\n",
       "        text-align: right;\n",
       "    }\n",
       "</style>\n",
       "<table border=\"1\" class=\"dataframe\">\n",
       "  <thead>\n",
       "    <tr style=\"text-align: right;\">\n",
       "      <th></th>\n",
       "      <th>average_daily_car_traffic</th>\n",
       "      <th>speed_limit</th>\n",
       "      <th>median_speed</th>\n",
       "      <th>percent_over_limit</th>\n",
       "      <th>longitude</th>\n",
       "      <th>latitude</th>\n",
       "    </tr>\n",
       "    <tr>\n",
       "      <th>neighborhood</th>\n",
       "      <th></th>\n",
       "      <th></th>\n",
       "      <th></th>\n",
       "      <th></th>\n",
       "      <th></th>\n",
       "      <th></th>\n",
       "    </tr>\n",
       "  </thead>\n",
       "  <tbody>\n",
       "    <tr>\n",
       "      <th>Polish Hill</th>\n",
       "      <td>4949.0</td>\n",
       "      <td>25.0</td>\n",
       "      <td>29.0</td>\n",
       "      <td>77.0</td>\n",
       "      <td>-79.967772</td>\n",
       "      <td>40.455733</td>\n",
       "    </tr>\n",
       "    <tr>\n",
       "      <th>Squirrel Hill South</th>\n",
       "      <td>2741.0</td>\n",
       "      <td>25.0</td>\n",
       "      <td>28.0</td>\n",
       "      <td>70.0</td>\n",
       "      <td>-79.914335</td>\n",
       "      <td>40.437379</td>\n",
       "    </tr>\n",
       "    <tr>\n",
       "      <th>Central Northside</th>\n",
       "      <td>1046.0</td>\n",
       "      <td>25.0</td>\n",
       "      <td>19.0</td>\n",
       "      <td>2.0</td>\n",
       "      <td>-80.014234</td>\n",
       "      <td>40.458106</td>\n",
       "    </tr>\n",
       "    <tr>\n",
       "      <th>Polish Hill</th>\n",
       "      <td>3015.0</td>\n",
       "      <td>25.0</td>\n",
       "      <td>26.0</td>\n",
       "      <td>58.0</td>\n",
       "      <td>-79.964592</td>\n",
       "      <td>40.457119</td>\n",
       "    </tr>\n",
       "    <tr>\n",
       "      <th>Squirrel Hill South</th>\n",
       "      <td>5592.0</td>\n",
       "      <td>25.0</td>\n",
       "      <td>28.0</td>\n",
       "      <td>70.0</td>\n",
       "      <td>-79.911925</td>\n",
       "      <td>40.435620</td>\n",
       "    </tr>\n",
       "  </tbody>\n",
       "</table>\n",
       "</div>"
      ],
      "text/plain": [
       "                     average_daily_car_traffic  speed_limit  median_speed  \\\n",
       "neighborhood                                                                \n",
       "Polish Hill                             4949.0         25.0          29.0   \n",
       "Squirrel Hill South                     2741.0         25.0          28.0   \n",
       "Central Northside                       1046.0         25.0          19.0   \n",
       "Polish Hill                             3015.0         25.0          26.0   \n",
       "Squirrel Hill South                     5592.0         25.0          28.0   \n",
       "\n",
       "                     percent_over_limit  longitude   latitude  \n",
       "neighborhood                                                   \n",
       "Polish Hill                        77.0 -79.967772  40.455733  \n",
       "Squirrel Hill South                70.0 -79.914335  40.437379  \n",
       "Central Northside                   2.0 -80.014234  40.458106  \n",
       "Polish Hill                        58.0 -79.964592  40.457119  \n",
       "Squirrel Hill South                70.0 -79.911925  40.435620  "
      ]
     },
     "execution_count": 3,
     "metadata": {},
     "output_type": "execute_result"
    }
   ],
   "source": [
    "traf.drop(labels=['id','device_id','record_oid','count_start_date',\n",
    "                'count_end_date','max_speed','speed95_percent',\n",
    "                'speed85_percent','counter_type','counter_number',\n",
    "                'council_district','average_daily_bike_traffic',\n",
    "                'ward','tract','public_works_division','pli_division',\n",
    "                'police_zone','fire_zone'], axis=1,inplace= True)\n",
    "traf.dropna(subset=['average_daily_car_traffic'],\n",
    "          inplace=True)##purging columns and NaN values\n",
    "col = traf.pop('neighborhood')\n",
    "traf.set_index(col, inplace=True)##moving neighborhood column to index\n",
    "traf.head()"
   ]
  },
  {
   "cell_type": "code",
   "execution_count": 4,
   "metadata": {},
   "outputs": [
    {
     "name": "stdout",
     "output_type": "stream",
     "text": [
      "                           average_daily_car_traffic  median_speed  Score\n",
      "neighborhood                                                             \n",
      "South Side Flats                               115.0          18.0  156.5\n",
      "Lincoln Place                                  126.0          20.0  158.7\n",
      "Lincoln-Lemington-Belmar                       195.0          20.0  102.6\n",
      "Fineview                                       419.0          25.0   59.7\n",
      "Allegheny West                                 477.0          20.0   41.9\n",
      "New Homestead                                  666.0          24.0   36.0\n",
      "Overbrook                                      777.0          26.0   33.5\n",
      "Summer Hill                                    937.0          26.0   27.7\n",
      "Upper Hill                                     953.3          22.8   23.9\n",
      "Central Northside                             1189.0          20.0   16.8\n",
      "Spring Garden                                 1226.0          29.0   23.7\n",
      "Hazelwood                                     1289.5          28.5   22.1\n",
      "Spring Hill-City View                         1293.0          22.5   17.4\n",
      "Elliott                                       1342.7          27.0   20.1\n",
      "Beechview                                     1418.3          26.7   18.8\n",
      "Windgap                                       1531.0          27.0   17.6\n",
      "Highland Park                                 1564.7          22.4   14.3\n",
      "Beltzhoover                                   1577.0          23.0   14.6\n",
      "Lower Lawrenceville                           1736.0          24.5   14.1\n",
      "Bluff                                         1788.3          19.7   11.0\n",
      "East Allegheny                                1924.0          24.0   12.5\n",
      "Carrick                                       1969.6          24.0   12.2\n",
      "Morningside                                   2049.3          25.3   12.3\n",
      "Perry North                                   2123.8          29.0   13.7\n",
      "Manchester                                    2129.3          24.5   11.5\n",
      "Marshall-Shadeland                            2217.1          26.9   12.1\n",
      "Central Lawrenceville                         2249.8          20.8    9.3\n",
      "Arlington                                     2285.5          26.5   11.6\n",
      "Central Business District                     2305.0          19.0    8.2\n",
      "Allegheny Center                              2386.0          27.0   11.3\n",
      "Greenfield                                    2386.0          27.4   11.5\n",
      "St. Clair                                     2436.0          30.0   12.3\n",
      "Friendship                                    2443.5          24.0    9.8\n",
      "Brighton Heights                              2515.7          32.0   12.7\n",
      "Chartiers City                                2571.0          28.0   10.9\n",
      "West Oakland                                  2585.0          23.0    8.9\n",
      "Polish Hill                                   2649.0          25.2    9.5\n",
      "Sheraden                                      2844.0          26.5    9.3\n",
      "Perry South                                   3018.8          27.0    8.9\n",
      "Squirrel Hill South                           3050.1          26.1    8.6\n",
      "Bloomfield                                    3078.6          22.6    7.3\n",
      "Homewood North                                3513.5          25.0    7.1\n",
      "Central Oakland                               3768.7          21.3    5.7\n",
      "Larimer                                       3771.3          26.0    6.9\n",
      "South Side Slopes                             3778.1          26.9    7.1\n",
      "Knoxville                                     3823.0          26.0    6.8\n",
      "Point Breeze                                  3905.2          27.6    7.1\n",
      "Brookline                                     3914.4          26.4    6.7\n",
      "Squirrel Hill North                           3939.1          26.0    6.6\n",
      "Stanton Heights                               4068.0          31.0    7.6\n",
      "Homewood South                                4274.2          28.6    6.7\n",
      "Shadyside                                     4408.8          24.9    5.6\n",
      "East Liberty                                  4658.8          27.2    5.8\n",
      "Point Breeze North                            4964.0          31.0    6.2\n",
      "California-Kirkbride                          4975.3          31.3    6.3\n",
      "Mount Washington                              5259.6          28.9    5.5\n",
      "Duquesne Heights                              5831.0          25.0    4.3\n",
      "North Oakland                                 5955.2          30.7    5.1\n",
      "Westwood                                      7700.0          36.5    4.7\n",
      "East Hills                                    8126.5          32.5    4.0\n",
      "Strip District                                9691.7          28.0    2.9\n",
      "North Shore                                  10350.0          29.0    2.8\n",
      "Crafton Heights                              11500.0          37.0    3.2\n",
      "Regent Square                                16729.0          30.0    1.8\n"
     ]
    }
   ],
   "source": [
    "mtraf = traf.groupby(level='neighborhood').mean()\n",
    "mtraf['Score']=1000/mtraf.average_daily_car_traffic * mtraf.median_speed\n",
    "mtraf.sort_values(['average_daily_car_traffic'], inplace=True)\n",
    "with pd.option_context('display.max_rows', None, \n",
    "                       'display.max_columns', None, \n",
    "                       'display.precision',1):\n",
    "    print(mtraf[['average_daily_car_traffic','median_speed','Score']])"
   ]
  },
  {
   "cell_type": "code",
   "execution_count": 21,
   "metadata": {},
   "outputs": [
    {
     "data": {
      "text/plain": [
       "Text(0, 0.5, 'Average Daily Car Traffic')"
      ]
     },
     "execution_count": 21,
     "metadata": {},
     "output_type": "execute_result"
    },
    {
     "data": {
      "text/plain": [
       "<Figure size 2000x2000 with 0 Axes>"
      ]
     },
     "metadata": {},
     "output_type": "display_data"
    },
    {
     "data": {
      "image/png": "[encoded data removed]",
      "text/plain": [
       "<Figure size 432x288 with 2 Axes>"
      ]
     },
     "metadata": {
      "needs_background": "light"
     },
     "output_type": "display_data"
    }
   ],
   "source": [
    "## no clue why x axis isnt showing, i truly tried\n",
    "## have tried also making labels smaller, no dice\n",
    "dotplot=mtraf.plot.scatter(x='median_speed',\n",
    "                            y='average_daily_car_traffic',\n",
    "                            c='Score',\n",
    "                            colormap='seismic')\n",
    "dotplot.set_title('Neighborhood Car Data')\n",
    "dotplot.set_xlabel('Median Speed(MPH)')\n",
    "dotplot.set_ylabel('Average Daily Car Traffic')"
   ]
  },
  {
   "cell_type": "markdown",
   "metadata": {},
   "source": [
    "My data set alone said that South Side Flats was the best in terms of car traffic. I find this hard to believe, as I have walked in the South Side before. I knew my data set would not have *every* street accounted for, but was hoping at least the major street in every neighborhood would be accounted for. I think with a more fleshed out traffic count the data would be interesting to look at again. Personally, I live in Highland Park so I am biased, but the jaywalking potential there is phenomenal. Most of the neighborhood is a grid of four way stops, which leads to slow and staggered cars. "
   ]
  }
 ],
 "metadata": {
  "kernelspec": {
   "display_name": "Python 3",
   "language": "python",
   "name": "python3"
  },
  "language_info": {
   "codemirror_mode": {
    "name": "ipython",
    "version": 3
   },
   "file_extension": ".py",
   "mimetype": "text/x-python",
   "name": "python",
   "nbconvert_exporter": "python",
   "pygments_lexer": "ipython3",
   "version": "3.8.3"
  }
 },
 "nbformat": 4,
 "nbformat_minor": 4
}
