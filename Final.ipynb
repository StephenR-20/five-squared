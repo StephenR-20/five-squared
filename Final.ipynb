{
 "cells": [
  {
   "cell_type": "markdown",
   "metadata": {},
   "source": [
    "# 5^2\n",
    "\n",
    "The goal of our metric was to find the easiet neighborhood to jaywalk in. To do this, we anaylzed data from three sets; Traffic Count Data, Speed Humps, and City Traffic Signs. The traffic counts are used to see car frequency and speed, and the other two sets are used to show how 'controlled' those cars are.\n",
    "\n",
    "We had debated using pedestrian/car collisions to see where people get hit most, but of the million columns, there was no neighborhood one. "
   ]
  },
  {
   "cell_type": "code",
   "execution_count": 16,
   "metadata": {},
   "outputs": [],
   "source": [
    "import pandas as pd\n",
    "import matplotlib.pyplot as plt\n",
    "traf=pd.read_csv(\"traffic.csv\")##   ye ol' imports"
   ]
  },
  {
   "cell_type": "code",
   "execution_count": 17,
   "metadata": {},
   "outputs": [
    {
     "data": {
      "text/html": [
       "<div>\n",
       "<style scoped>\n",
       "    .dataframe tbody tr th:only-of-type {\n",
       "        vertical-align: middle;\n",
       "    }\n",
       "\n",
       "    .dataframe tbody tr th {\n",
       "        vertical-align: top;\n",
       "    }\n",
       "\n",
       "    .dataframe thead th {\n",
       "        text-align: right;\n",
       "    }\n",
       "</style>\n",
       "<table border=\"1\" class=\"dataframe\">\n",
       "  <thead>\n",
       "    <tr style=\"text-align: right;\">\n",
       "      <th></th>\n",
       "      <th>average_daily_car_traffic</th>\n",
       "      <th>speed_limit</th>\n",
       "      <th>median_speed</th>\n",
       "      <th>percent_over_limit</th>\n",
       "      <th>longitude</th>\n",
       "      <th>latitude</th>\n",
       "    </tr>\n",
       "    <tr>\n",
       "      <th>neighborhood</th>\n",
       "      <th></th>\n",
       "      <th></th>\n",
       "      <th></th>\n",
       "      <th></th>\n",
       "      <th></th>\n",
       "      <th></th>\n",
       "    </tr>\n",
       "  </thead>\n",
       "  <tbody>\n",
       "    <tr>\n",
       "      <th>Polish Hill</th>\n",
       "      <td>4949.0</td>\n",
       "      <td>25.0</td>\n",
       "      <td>29.0</td>\n",
       "      <td>77.0</td>\n",
       "      <td>-79.967772</td>\n",
       "      <td>40.455733</td>\n",
       "    </tr>\n",
       "    <tr>\n",
       "      <th>Squirrel Hill South</th>\n",
       "      <td>2741.0</td>\n",
       "      <td>25.0</td>\n",
       "      <td>28.0</td>\n",
       "      <td>70.0</td>\n",
       "      <td>-79.914335</td>\n",
       "      <td>40.437379</td>\n",
       "    </tr>\n",
       "    <tr>\n",
       "      <th>Central Northside</th>\n",
       "      <td>1046.0</td>\n",
       "      <td>25.0</td>\n",
       "      <td>19.0</td>\n",
       "      <td>2.0</td>\n",
       "      <td>-80.014234</td>\n",
       "      <td>40.458106</td>\n",
       "    </tr>\n",
       "    <tr>\n",
       "      <th>Polish Hill</th>\n",
       "      <td>3015.0</td>\n",
       "      <td>25.0</td>\n",
       "      <td>26.0</td>\n",
       "      <td>58.0</td>\n",
       "      <td>-79.964592</td>\n",
       "      <td>40.457119</td>\n",
       "    </tr>\n",
       "    <tr>\n",
       "      <th>Squirrel Hill South</th>\n",
       "      <td>5592.0</td>\n",
       "      <td>25.0</td>\n",
       "      <td>28.0</td>\n",
       "      <td>70.0</td>\n",
       "      <td>-79.911925</td>\n",
       "      <td>40.435620</td>\n",
       "    </tr>\n",
       "  </tbody>\n",
       "</table>\n",
       "</div>"
      ],
      "text/plain": [
       "                     average_daily_car_traffic  speed_limit  median_speed  \\\n",
       "neighborhood                                                                \n",
       "Polish Hill                             4949.0         25.0          29.0   \n",
       "Squirrel Hill South                     2741.0         25.0          28.0   \n",
       "Central Northside                       1046.0         25.0          19.0   \n",
       "Polish Hill                             3015.0         25.0          26.0   \n",
       "Squirrel Hill South                     5592.0         25.0          28.0   \n",
       "\n",
       "                     percent_over_limit  longitude   latitude  \n",
       "neighborhood                                                   \n",
       "Polish Hill                        77.0 -79.967772  40.455733  \n",
       "Squirrel Hill South                70.0 -79.914335  40.437379  \n",
       "Central Northside                   2.0 -80.014234  40.458106  \n",
       "Polish Hill                        58.0 -79.964592  40.457119  \n",
       "Squirrel Hill South                70.0 -79.911925  40.435620  "
      ]
     },
     "execution_count": 17,
     "metadata": {},
     "output_type": "execute_result"
    }
   ],
   "source": [
    "traf.drop(labels=['id','device_id','record_oid','count_start_date',\n",
    "                'count_end_date','max_speed','speed95_percent',\n",
    "                'speed85_percent','counter_type','counter_number',\n",
    "                'council_district','average_daily_bike_traffic',\n",
    "                'ward','tract','public_works_division','pli_division',\n",
    "                'police_zone','fire_zone'], axis=1,inplace= True)\n",
    "traf.dropna(subset=['average_daily_car_traffic'],\n",
    "          inplace=True)##purging columns and NaN values\n",
    "col = traf.pop('neighborhood')\n",
    "traf.set_index(col, inplace=True)##moving neighborhood column to index\n",
    "traf.head()"
   ]
  },
  {
   "cell_type": "code",
   "execution_count": 18,
   "metadata": {},
   "outputs": [
    {
     "name": "stdout",
     "output_type": "stream",
     "text": [
      "                           average_daily_car_traffic  median_speed  Score\n",
      "neighborhood                                                             \n",
      "South Side Flats                               115.0          18.0    2.1\n",
      "Lincoln Place                                  126.0          20.0    2.5\n",
      "Lincoln-Lemington-Belmar                       195.0          20.0    3.9\n",
      "Fineview                                       419.0          25.0   10.5\n",
      "Allegheny West                                 477.0          20.0    9.5\n",
      "New Homestead                                  666.0          24.0   16.0\n",
      "Overbrook                                      777.0          26.0   20.2\n",
      "Summer Hill                                    937.0          26.0   24.4\n",
      "Upper Hill                                     953.3          22.8   21.7\n",
      "Central Northside                             1189.0          20.0   23.8\n",
      "Spring Garden                                 1226.0          29.0   35.6\n",
      "Hazelwood                                     1289.5          28.5   36.8\n",
      "Spring Hill-City View                         1293.0          22.5   29.1\n",
      "Elliott                                       1342.7          27.0   36.3\n",
      "Beechview                                     1418.3          26.7   37.8\n",
      "Windgap                                       1531.0          27.0   41.3\n",
      "Highland Park                                 1564.7          22.4   35.1\n",
      "Beltzhoover                                   1577.0          23.0   36.3\n",
      "Lower Lawrenceville                           1736.0          24.5   42.5\n",
      "Bluff                                         1788.3          19.7   35.2\n",
      "East Allegheny                                1924.0          24.0   46.2\n",
      "Carrick                                       1969.6          24.0   47.3\n",
      "Morningside                                   2049.3          25.3   51.8\n",
      "Perry North                                   2123.8          29.0   61.6\n",
      "Manchester                                    2129.3          24.5   52.2\n",
      "Marshall-Shadeland                            2217.1          26.9   59.5\n",
      "Central Lawrenceville                         2249.8          20.8   46.9\n",
      "Arlington                                     2285.5          26.5   60.6\n",
      "Central Business District                     2305.0          19.0   43.8\n",
      "Allegheny Center                              2386.0          27.0   64.4\n",
      "Greenfield                                    2386.0          27.4   65.4\n",
      "St. Clair                                     2436.0          30.0   73.1\n",
      "Friendship                                    2443.5          24.0   58.6\n",
      "Brighton Heights                              2515.7          32.0   80.5\n",
      "Chartiers City                                2571.0          28.0   72.0\n",
      "West Oakland                                  2585.0          23.0   59.5\n",
      "Polish Hill                                   2649.0          25.2   66.8\n",
      "Sheraden                                      2844.0          26.5   75.4\n",
      "Perry South                                   3018.8          27.0   81.5\n",
      "Squirrel Hill South                           3050.1          26.1   79.5\n",
      "Bloomfield                                    3078.6          22.6   69.5\n",
      "Homewood North                                3513.5          25.0   87.8\n",
      "Central Oakland                               3768.7          21.3   80.4\n",
      "Larimer                                       3771.3          26.0   98.1\n",
      "South Side Slopes                             3778.1          26.9  101.5\n",
      "Knoxville                                     3823.0          26.0   99.4\n",
      "Point Breeze                                  3905.2          27.6  107.9\n",
      "Brookline                                     3914.4          26.4  103.3\n",
      "Squirrel Hill North                           3939.1          26.0  102.4\n",
      "Stanton Heights                               4068.0          31.0  126.1\n",
      "Homewood South                                4274.2          28.6  122.2\n",
      "Shadyside                                     4408.8          24.9  109.6\n",
      "East Liberty                                  4658.8          27.2  126.6\n",
      "Point Breeze North                            4964.0          31.0  153.9\n",
      "California-Kirkbride                          4975.3          31.3  155.9\n",
      "Mount Washington                              5259.6          28.9  151.9\n",
      "Duquesne Heights                              5831.0          25.0  145.8\n",
      "North Oakland                                 5955.2          30.7  182.6\n",
      "Westwood                                      7700.0          36.5  281.1\n",
      "East Hills                                    8126.5          32.5  264.1\n",
      "Strip District                                9691.7          28.0  271.4\n",
      "North Shore                                  10350.0          29.0  300.1\n",
      "Crafton Heights                              11500.0          37.0  425.5\n",
      "Regent Square                                16729.0          30.0  501.9\n"
     ]
    }
   ],
   "source": [
    "mtraf = traf.groupby(level='neighborhood').mean()\n",
    "mtraf['Score']=mtraf.average_daily_car_traffic * mtraf.median_speed/1000\n",
    "mtraf.sort_values(['average_daily_car_traffic'], inplace=True)\n",
    "with pd.option_context('display.max_rows', None, \n",
    "                       'display.max_columns', None, \n",
    "                       'display.precision',1):\n",
    "    print(mtraf[['average_daily_car_traffic','median_speed','Score']])"
   ]
  },
  {
   "cell_type": "code",
   "execution_count": 26,
   "metadata": {},
   "outputs": [
    {
     "ename": "TypeError",
     "evalue": "'Figure' object is not callable",
     "output_type": "error",
     "traceback": [
      "\u001b[0;31m---------------------------------------------------------------------------\u001b[0m",
      "\u001b[0;31mTypeError\u001b[0m                                 Traceback (most recent call last)",
      "\u001b[0;32m<ipython-input-26-8912623d6f15>\u001b[0m in \u001b[0;36m<module>\u001b[0;34m\u001b[0m\n\u001b[1;32m      6\u001b[0m \u001b[0mdotplot\u001b[0m\u001b[0;34m.\u001b[0m\u001b[0mset_xlabel\u001b[0m\u001b[0;34m(\u001b[0m\u001b[0;34m'Median Speed(MPH)'\u001b[0m\u001b[0;34m)\u001b[0m\u001b[0;34m\u001b[0m\u001b[0;34m\u001b[0m\u001b[0m\n\u001b[1;32m      7\u001b[0m \u001b[0mdotplot\u001b[0m\u001b[0;34m.\u001b[0m\u001b[0mset_ylabel\u001b[0m\u001b[0;34m(\u001b[0m\u001b[0;34m'Average Daily Car Traffic'\u001b[0m\u001b[0;34m)\u001b[0m\u001b[0;34m\u001b[0m\u001b[0;34m\u001b[0m\u001b[0m\n\u001b[0;32m----> 8\u001b[0;31m \u001b[0mdotplot\u001b[0m\u001b[0;34m.\u001b[0m\u001b[0mfigure\u001b[0m\u001b[0;34m(\u001b[0m\u001b[0;34m)\u001b[0m\u001b[0;34m\u001b[0m\u001b[0;34m\u001b[0m\u001b[0m\n\u001b[0m\u001b[1;32m      9\u001b[0m \u001b[0mdotplot\u001b[0m\u001b[0;34m.\u001b[0m\u001b[0mplot\u001b[0m\u001b[0;34m(\u001b[0m\u001b[0;34m)\u001b[0m\u001b[0;34m\u001b[0m\u001b[0;34m\u001b[0m\u001b[0m\n",
      "\u001b[0;31mTypeError\u001b[0m: 'Figure' object is not callable"
     ]
    },
    {
     "data": {
      "image/png": "[encoded data removed]",
      "text/plain": [
       "<Figure size 432x288 with 2 Axes>"
      ]
     },
     "metadata": {
      "needs_background": "light"
     },
     "output_type": "display_data"
    }
   ],
   "source": [
    "dotplot= mtraf.plot.scatter(x='median_speed',\n",
    "                            y='average_daily_car_traffic',\n",
    "                            c='Score',\n",
    "                            colormap='seismic')\n",
    "dotplot.set_title('Neighborhood Car Data')\n",
    "dotplot.set_xlabel('Median Speed(MPH)')\n",
    "dotplot.set_ylabel('Average Daily Car Traffic')\n",
    "dotplot.figure()\n",
    "dotplot.plot()"
   ]
  },
  {
   "cell_type": "code",
   "execution_count": null,
   "metadata": {},
   "outputs": [],
   "source": []
  }
 ],
 "metadata": {
  "kernelspec": {
   "display_name": "Python 3",
   "language": "python",
   "name": "python3"
  },
  "language_info": {
   "codemirror_mode": {
    "name": "ipython",
    "version": 3
   },
   "file_extension": ".py",
   "mimetype": "text/x-python",
   "name": "python",
   "nbconvert_exporter": "python",
   "pygments_lexer": "ipython3",
   "version": "3.8.3"
  }
 },
 "nbformat": 4,
 "nbformat_minor": 4
}
