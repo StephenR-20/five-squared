{
 "cells": [
  {
   "cell_type": "markdown",
   "metadata": {},
   "source": [
    "## Welcome to Five Squared's Presentation: The Best Neighborhood to Jaywalk in\n",
    "**By: Holden Gent, Rory McCann Stephen Randall**\n"
   ]
  },
  {
   "cell_type": "markdown",
   "metadata": {},
   "source": [
    "## Average Daily Car Traffic / Median Speed By: Rory McCann\n",
    "\n",
    "The goal of our metric was to find the easiet neighborhood to jaywalk in. To do this, we anaylzed data from three sets; Traffic Count Data, Speed Humps, and City Traffic Signs. The traffic counts are used to see car frequency and speed, and the other two sets are used to show how 'controlled' those cars are.\n",
    "\n",
    "We had debated using pedestrian/car collisions to see where people get hit most, but of the million columns, there was no neighborhood one. "
   ]
  },
  {
   "cell_type": "code",
   "execution_count": 2,
   "metadata": {},
   "outputs": [],
   "source": [
    "import pandas as pd\n",
    "import matplotlib.pyplot as plt\n",
    "traf=pd.read_csv(\"traffic.csv\")##   ye ol' imports"
   ]
  },
  {
   "cell_type": "code",
   "execution_count": 3,
   "metadata": {},
   "outputs": [
    {
     "data": {
      "text/html": [
       "<div>\n",
       "<style scoped>\n",
       "    .dataframe tbody tr th:only-of-type {\n",
       "        vertical-align: middle;\n",
       "    }\n",
       "\n",
       "    .dataframe tbody tr th {\n",
       "        vertical-align: top;\n",
       "    }\n",
       "\n",
       "    .dataframe thead th {\n",
       "        text-align: right;\n",
       "    }\n",
       "</style>\n",
       "<table border=\"1\" class=\"dataframe\">\n",
       "  <thead>\n",
       "    <tr style=\"text-align: right;\">\n",
       "      <th></th>\n",
       "      <th>average_daily_car_traffic</th>\n",
       "      <th>speed_limit</th>\n",
       "      <th>median_speed</th>\n",
       "      <th>percent_over_limit</th>\n",
       "      <th>longitude</th>\n",
       "      <th>latitude</th>\n",
       "    </tr>\n",
       "    <tr>\n",
       "      <th>neighborhood</th>\n",
       "      <th></th>\n",
       "      <th></th>\n",
       "      <th></th>\n",
       "      <th></th>\n",
       "      <th></th>\n",
       "      <th></th>\n",
       "    </tr>\n",
       "  </thead>\n",
       "  <tbody>\n",
       "    <tr>\n",
       "      <th>Polish Hill</th>\n",
       "      <td>4949.0</td>\n",
       "      <td>25.0</td>\n",
       "      <td>29.0</td>\n",
       "      <td>77.0</td>\n",
       "      <td>-79.967772</td>\n",
       "      <td>40.455733</td>\n",
       "    </tr>\n",
       "    <tr>\n",
       "      <th>Squirrel Hill South</th>\n",
       "      <td>2741.0</td>\n",
       "      <td>25.0</td>\n",
       "      <td>28.0</td>\n",
       "      <td>70.0</td>\n",
       "      <td>-79.914335</td>\n",
       "      <td>40.437379</td>\n",
       "    </tr>\n",
       "    <tr>\n",
       "      <th>Central Northside</th>\n",
       "      <td>1046.0</td>\n",
       "      <td>25.0</td>\n",
       "      <td>19.0</td>\n",
       "      <td>2.0</td>\n",
       "      <td>-80.014234</td>\n",
       "      <td>40.458106</td>\n",
       "    </tr>\n",
       "    <tr>\n",
       "      <th>Polish Hill</th>\n",
       "      <td>3015.0</td>\n",
       "      <td>25.0</td>\n",
       "      <td>26.0</td>\n",
       "      <td>58.0</td>\n",
       "      <td>-79.964592</td>\n",
       "      <td>40.457119</td>\n",
       "    </tr>\n",
       "    <tr>\n",
       "      <th>Squirrel Hill South</th>\n",
       "      <td>5592.0</td>\n",
       "      <td>25.0</td>\n",
       "      <td>28.0</td>\n",
       "      <td>70.0</td>\n",
       "      <td>-79.911925</td>\n",
       "      <td>40.435620</td>\n",
       "    </tr>\n",
       "  </tbody>\n",
       "</table>\n",
       "</div>"
      ],
      "text/plain": [
       "                     average_daily_car_traffic  speed_limit  median_speed  \\\n",
       "neighborhood                                                                \n",
       "Polish Hill                             4949.0         25.0          29.0   \n",
       "Squirrel Hill South                     2741.0         25.0          28.0   \n",
       "Central Northside                       1046.0         25.0          19.0   \n",
       "Polish Hill                             3015.0         25.0          26.0   \n",
       "Squirrel Hill South                     5592.0         25.0          28.0   \n",
       "\n",
       "                     percent_over_limit  longitude   latitude  \n",
       "neighborhood                                                   \n",
       "Polish Hill                        77.0 -79.967772  40.455733  \n",
       "Squirrel Hill South                70.0 -79.914335  40.437379  \n",
       "Central Northside                   2.0 -80.014234  40.458106  \n",
       "Polish Hill                        58.0 -79.964592  40.457119  \n",
       "Squirrel Hill South                70.0 -79.911925  40.435620  "
      ]
     },
     "execution_count": 3,
     "metadata": {},
     "output_type": "execute_result"
    }
   ],
   "source": [
    "traf.drop(labels=['id','device_id','record_oid','count_start_date',\n",
    "                'count_end_date','max_speed','speed95_percent',\n",
    "                'speed85_percent','counter_type','counter_number',\n",
    "                'council_district','average_daily_bike_traffic',\n",
    "                'ward','tract','public_works_division','pli_division',\n",
    "                'police_zone','fire_zone'], axis=1,inplace= True)\n",
    "traf.dropna(subset=['average_daily_car_traffic'],\n",
    "          inplace=True)##purging columns and NaN values\n",
    "col = traf.pop('neighborhood')\n",
    "traf.set_index(col, inplace=True)##moving neighborhood column to index\n",
    "traf.head()"
   ]
  },
  {
   "cell_type": "code",
   "execution_count": 4,
   "metadata": {},
   "outputs": [
    {
     "name": "stdout",
     "output_type": "stream",
     "text": [
      "                           average_daily_car_traffic  median_speed  Score\n",
      "neighborhood                                                             \n",
      "South Side Flats                               115.0          18.0  156.5\n",
      "Lincoln Place                                  126.0          20.0  158.7\n",
      "Lincoln-Lemington-Belmar                       195.0          20.0  102.6\n",
      "Fineview                                       419.0          25.0   59.7\n",
      "Allegheny West                                 477.0          20.0   41.9\n",
      "New Homestead                                  666.0          24.0   36.0\n",
      "Overbrook                                      777.0          26.0   33.5\n",
      "Summer Hill                                    937.0          26.0   27.7\n",
      "Upper Hill                                     953.3          22.8   23.9\n",
      "Central Northside                             1189.0          20.0   16.8\n",
      "Spring Garden                                 1226.0          29.0   23.7\n",
      "Hazelwood                                     1289.5          28.5   22.1\n",
      "Spring Hill-City View                         1293.0          22.5   17.4\n",
      "Elliott                                       1342.7          27.0   20.1\n",
      "Beechview                                     1418.3          26.7   18.8\n",
      "Windgap                                       1531.0          27.0   17.6\n",
      "Highland Park                                 1564.7          22.4   14.3\n",
      "Beltzhoover                                   1577.0          23.0   14.6\n",
      "Lower Lawrenceville                           1736.0          24.5   14.1\n",
      "Bluff                                         1788.3          19.7   11.0\n",
      "East Allegheny                                1924.0          24.0   12.5\n",
      "Carrick                                       1969.6          24.0   12.2\n",
      "Morningside                                   2049.3          25.3   12.3\n",
      "Perry North                                   2123.8          29.0   13.7\n",
      "Manchester                                    2129.3          24.5   11.5\n",
      "Marshall-Shadeland                            2217.1          26.9   12.1\n",
      "Central Lawrenceville                         2249.8          20.8    9.3\n",
      "Arlington                                     2285.5          26.5   11.6\n",
      "Central Business District                     2305.0          19.0    8.2\n",
      "Allegheny Center                              2386.0          27.0   11.3\n",
      "Greenfield                                    2386.0          27.4   11.5\n",
      "St. Clair                                     2436.0          30.0   12.3\n",
      "Friendship                                    2443.5          24.0    9.8\n",
      "Brighton Heights                              2515.7          32.0   12.7\n",
      "Chartiers City                                2571.0          28.0   10.9\n",
      "West Oakland                                  2585.0          23.0    8.9\n",
      "Polish Hill                                   2649.0          25.2    9.5\n",
      "Sheraden                                      2844.0          26.5    9.3\n",
      "Perry South                                   3018.8          27.0    8.9\n",
      "Squirrel Hill South                           3050.1          26.1    8.6\n",
      "Bloomfield                                    3078.6          22.6    7.3\n",
      "Homewood North                                3513.5          25.0    7.1\n",
      "Central Oakland                               3768.7          21.3    5.7\n",
      "Larimer                                       3771.3          26.0    6.9\n",
      "South Side Slopes                             3778.1          26.9    7.1\n",
      "Knoxville                                     3823.0          26.0    6.8\n",
      "Point Breeze                                  3905.2          27.6    7.1\n",
      "Brookline                                     3914.4          26.4    6.7\n",
      "Squirrel Hill North                           3939.1          26.0    6.6\n",
      "Stanton Heights                               4068.0          31.0    7.6\n",
      "Homewood South                                4274.2          28.6    6.7\n",
      "Shadyside                                     4408.8          24.9    5.6\n",
      "East Liberty                                  4658.8          27.2    5.8\n",
      "Point Breeze North                            4964.0          31.0    6.2\n",
      "California-Kirkbride                          4975.3          31.3    6.3\n",
      "Mount Washington                              5259.6          28.9    5.5\n",
      "Duquesne Heights                              5831.0          25.0    4.3\n",
      "North Oakland                                 5955.2          30.7    5.1\n",
      "Westwood                                      7700.0          36.5    4.7\n",
      "East Hills                                    8126.5          32.5    4.0\n",
      "Strip District                                9691.7          28.0    2.9\n",
      "North Shore                                  10350.0          29.0    2.8\n",
      "Crafton Heights                              11500.0          37.0    3.2\n",
      "Regent Square                                16729.0          30.0    1.8\n"
     ]
    }
   ],
   "source": [
    "mtraf = traf.groupby(level='neighborhood').mean()\n",
    "mtraf['Score']=1000/mtraf.average_daily_car_traffic * mtraf.median_speed\n",
    "mtraf.sort_values(['average_daily_car_traffic'], inplace=True)\n",
    "with pd.option_context('display.max_rows', None, \n",
    "                       'display.max_columns', None, \n",
    "                       'display.precision',1):\n",
    "    print(mtraf[['average_daily_car_traffic','median_speed','Score']])"
   ]
  },
  {
   "cell_type": "code",
   "execution_count": 26,
   "metadata": {},
   "outputs": [
    {
     "ename": "TypeError",
     "evalue": "'Figure' object is not callable",
     "output_type": "error",
     "traceback": [
      "\u001b[0;31m---------------------------------------------------------------------------\u001b[0m",
      "\u001b[0;31mTypeError\u001b[0m                                 Traceback (most recent call last)",
      "\u001b[0;32m<ipython-input-26-8912623d6f15>\u001b[0m in \u001b[0;36m<module>\u001b[0;34m\u001b[0m\n\u001b[1;32m      6\u001b[0m \u001b[0mdotplot\u001b[0m\u001b[0;34m.\u001b[0m\u001b[0mset_xlabel\u001b[0m\u001b[0;34m(\u001b[0m\u001b[0;34m'Median Speed(MPH)'\u001b[0m\u001b[0;34m)\u001b[0m\u001b[0;34m\u001b[0m\u001b[0;34m\u001b[0m\u001b[0m\n\u001b[1;32m      7\u001b[0m \u001b[0mdotplot\u001b[0m\u001b[0;34m.\u001b[0m\u001b[0mset_ylabel\u001b[0m\u001b[0;34m(\u001b[0m\u001b[0;34m'Average Daily Car Traffic'\u001b[0m\u001b[0;34m)\u001b[0m\u001b[0;34m\u001b[0m\u001b[0;34m\u001b[0m\u001b[0m\n\u001b[0;32m----> 8\u001b[0;31m \u001b[0mdotplot\u001b[0m\u001b[0;34m.\u001b[0m\u001b[0mfigure\u001b[0m\u001b[0;34m(\u001b[0m\u001b[0;34m)\u001b[0m\u001b[0;34m\u001b[0m\u001b[0;34m\u001b[0m\u001b[0m\n\u001b[0m\u001b[1;32m      9\u001b[0m \u001b[0mdotplot\u001b[0m\u001b[0;34m.\u001b[0m\u001b[0mplot\u001b[0m\u001b[0;34m(\u001b[0m\u001b[0;34m)\u001b[0m\u001b[0;34m\u001b[0m\u001b[0;34m\u001b[0m\u001b[0m\n",
      "\u001b[0;31mTypeError\u001b[0m: 'Figure' object is not callable"
     ]
    },
    {
     "data": {
      "image/png": "[encoded data removed]",
      "text/plain": [
       "<Figure size 432x288 with 2 Axes>"
      ]
     },
     "metadata": {
      "needs_background": "light"
     },
     "output_type": "display_data"
    }
   ],
   "source": [
    "dotplot= mtraf.plot.scatter(x='median_speed',\n",
    "                            y='average_daily_car_traffic',\n",
    "                            c='Score',\n",
    "                            colormap='seismic')\n",
    "dotplot.set_title('Neighborhood Car Data')\n",
    "dotplot.set_xlabel('Median Speed(MPH)')\n",
    "dotplot.set_ylabel('Average Daily Car Traffic')\n",
    "dotplot.figure()\n",
    "dotplot.plot()"
   ]
  },
  {
   "cell_type": "markdown",
   "metadata": {},
   "source": [
    "**INSERT RORY'S CONCLUSION HERE**"
   ]
  },
  {
   "cell_type": "markdown",
   "metadata": {},
   "source": [
    "## Pittsburgh Signs By: Holden Gent"
   ]
  },
  {
   "cell_type": "code",
   "execution_count": 2,
   "metadata": {},
   "outputs": [],
   "source": [
    "import pandas as pd\n",
    "import geopandas\n",
    "%matplotlib inline\n"
   ]
  },
  {
   "cell_type": "code",
   "execution_count": 3,
   "metadata": {},
   "outputs": [
    {
     "name": "stderr",
     "output_type": "stream",
     "text": [
      "<ipython-input-3-6d26c9be746a>:26: FutureWarning: The frame.append method is deprecated and will be removed from pandas in a future version. Use pandas.concat instead.\n",
      "  df1 = stop.append(speed)\n",
      "<ipython-input-3-6d26c9be746a>:27: FutureWarning: The frame.append method is deprecated and will be removed from pandas in a future version. Use pandas.concat instead.\n",
      "  df2 = df1.append(yeild)\n",
      "<ipython-input-3-6d26c9be746a>:28: FutureWarning: The frame.append method is deprecated and will be removed from pandas in a future version. Use pandas.concat instead.\n",
      "  df3 = df2.append(ped)\n",
      "<ipython-input-3-6d26c9be746a>:29: FutureWarning: The frame.append method is deprecated and will be removed from pandas in a future version. Use pandas.concat instead.\n",
      "  df4 = df3.append(b_ped)\n",
      "<ipython-input-3-6d26c9be746a>:30: FutureWarning: The frame.append method is deprecated and will be removed from pandas in a future version. Use pandas.concat instead.\n",
      "  df5 = df4.append(c_ped)\n"
     ]
    }
   ],
   "source": [
    "df = pd.read_csv(\"signdata.csv\")\n",
    "pd.set_option('display.max_rows', None)\n",
    "\n",
    "## want to get a df with just the signs i care about\n",
    "## create query for each sign i care about and combine them\n",
    "stop_query = df['description'] == 'Stop'\n",
    "stop = df[stop_query]\n",
    "## query of stop signs \n",
    "yield_query = df['description'] == \"Yield\"\n",
    "yeild = df[yield_query]\n",
    "## query of yeild signs\n",
    "speed_query = df['description'] == \"Speed Limit\"\n",
    "speed = df[speed_query]\n",
    "## query of speed signs \n",
    "ped_query = df['description'] == \"Pedestrian\"\n",
    "ped = df[ped_query]\n",
    "## query of ped signs \n",
    "blind_ped_query = df['description'] == \"Blind Pedestrian Crossing\"\n",
    "b_ped = df[blind_ped_query]\n",
    "## query of blind ped signs \n",
    "cross_ped_query = df['description'] == \"Yield to Peds in Crosswalk\"\n",
    "c_ped = df[cross_ped_query]\n",
    "## query of crossing ped signs \n",
    "\n",
    "## append new DFs together to get one with just the signs we care about \n",
    "df1 = stop.append(speed)\n",
    "df2 = df1.append(yeild)\n",
    "df3 = df2.append(ped)\n",
    "df4 = df3.append(b_ped)\n",
    "df5 = df4.append(c_ped)\n",
    "\n",
    "##sort df5 by neighborhoods\n",
    "df5 = df5.sort_values('neighborhood')\n",
    "\n",
    "df5.drop(['address_number', \"street\", 'mutcd_code', 'mounting_fixture',\n",
    "          'date_installed', 'council_district', 'ward', 'tract', 'police_zone'\n",
    "          , 'public_works_division', 'fire_zone', 'longitude', 'latitude',\n",
    "          'pli_division', 'city', 'id'], axis = 1, inplace = True)\n",
    "\n",
    "df5 = df5.groupby(['neighborhood', 'description']).value_counts()"
   ]
  },
  {
   "cell_type": "code",
   "execution_count": 4,
   "metadata": {},
   "outputs": [],
   "source": [
    "%%capture \n",
    "## want to run but not run output \n",
    "df5 = df5.to_frame(name = 'sign count')\n",
    "## df5 turned into seris had to turn it back "
   ]
  },
  {
   "cell_type": "code",
   "execution_count": 5,
   "metadata": {},
   "outputs": [],
   "source": [
    "##create score col\n",
    "df5['score'] = df.apply(lambda _: '', axis = 1)"
   ]
  },
  {
   "cell_type": "code",
   "execution_count": 6,
   "metadata": {},
   "outputs": [],
   "source": [
    "## weight diffrent sign types per neighborhood\n",
    "df5.reset_index(inplace = True)\n",
    "score = []\n",
    "x = df5['sign count']\n",
    "i = 0\n",
    "y = df5['description']\n",
    "for index, row in df5.iterrows():\n",
    "    if y[i] == 'Stop':\n",
    "        score.append(x[i] * 1)\n",
    "        i += 1\n",
    "    elif y[i] == 'Speed Limit':\n",
    "        score.append(x[i] * 0.5)\n",
    "        i += 1\n",
    "    elif y[i] == 'Pedestrian':\n",
    "        score.append(x[i] * 1)\n",
    "        i += 1\n",
    "    elif y[i] == 'Yield':\n",
    "        score.append(x[i] * 0.75)\n",
    "        i += 1\n",
    "    elif y[i] == 'Blind Pedestrian Crossing':\n",
    "        score.append(x[i] * 2)\n",
    "        i += 1\n",
    "    else: ##yeild to ped \n",
    "        score.append(x[i] * 1.5)\n",
    "        i += 1\n",
    "df5['score'] = score"
   ]
  },
  {
   "cell_type": "code",
   "execution_count": 7,
   "metadata": {},
   "outputs": [],
   "source": [
    "##get total scores by neighborhood\n",
    "s_total = df5.groupby('neighborhood').sum()\n",
    "s_total.drop(['sign count'], axis = 1, inplace = True)\n",
    "s_total = s_total.sort_values('score', ascending = True)"
   ]
  },
  {
   "cell_type": "code",
   "execution_count": 8,
   "metadata": {},
   "outputs": [
    {
     "data": {
      "text/plain": [
       "<matplotlib.axes._subplots.AxesSubplot at 0x7f6b50bf7130>"
      ]
     },
     "execution_count": 8,
     "metadata": {},
     "output_type": "execute_result"
    },
    {
     "data": {
      "image/png": "[encoded data removed]",
      "text/plain": [
       "<Figure size 1440x1440 with 1 Axes>"
      ]
     },
     "metadata": {
      "needs_background": "light"
     },
     "output_type": "display_data"
    }
   ],
   "source": [
    "s_total.plot(kind = 'bar', title = 'Neighborhood score', figsize = (20,20), stacked = True)"
   ]
  },
  {
   "cell_type": "code",
   "execution_count": 11,
   "metadata": {},
   "outputs": [
    {
     "ename": "AttributeError",
     "evalue": "'DataFrame' object has no attribute 'unique'",
     "output_type": "error",
     "traceback": [
      "\u001b[0;31m---------------------------------------------------------------------------\u001b[0m",
      "\u001b[0;31mAttributeError\u001b[0m                            Traceback (most recent call last)",
      "\u001b[0;32m<ipython-input-11-b8f1faf8b8b6>\u001b[0m in \u001b[0;36m<module>\u001b[0;34m\u001b[0m\n\u001b[0;32m----> 1\u001b[0;31m \u001b[0ms_total\u001b[0m\u001b[0;34m.\u001b[0m\u001b[0munique\u001b[0m\u001b[0;34m(\u001b[0m\u001b[0;34m[\u001b[0m\u001b[0;34m'neighborhood'\u001b[0m\u001b[0;34m]\u001b[0m\u001b[0;34m)\u001b[0m\u001b[0;34m\u001b[0m\u001b[0;34m\u001b[0m\u001b[0m\n\u001b[0m",
      "\u001b[0;32m/opt/tljh/user/lib/python3.8/site-packages/pandas/core/generic.py\u001b[0m in \u001b[0;36m__getattr__\u001b[0;34m(self, name)\u001b[0m\n\u001b[1;32m   5581\u001b[0m         ):\n\u001b[1;32m   5582\u001b[0m             \u001b[0;32mreturn\u001b[0m \u001b[0mself\u001b[0m\u001b[0;34m[\u001b[0m\u001b[0mname\u001b[0m\u001b[0;34m]\u001b[0m\u001b[0;34m\u001b[0m\u001b[0;34m\u001b[0m\u001b[0m\n\u001b[0;32m-> 5583\u001b[0;31m         \u001b[0;32mreturn\u001b[0m \u001b[0mobject\u001b[0m\u001b[0;34m.\u001b[0m\u001b[0m__getattribute__\u001b[0m\u001b[0;34m(\u001b[0m\u001b[0mself\u001b[0m\u001b[0;34m,\u001b[0m \u001b[0mname\u001b[0m\u001b[0;34m)\u001b[0m\u001b[0;34m\u001b[0m\u001b[0;34m\u001b[0m\u001b[0m\n\u001b[0m\u001b[1;32m   5584\u001b[0m \u001b[0;34m\u001b[0m\u001b[0m\n\u001b[1;32m   5585\u001b[0m     \u001b[0;32mdef\u001b[0m \u001b[0m__setattr__\u001b[0m\u001b[0;34m(\u001b[0m\u001b[0mself\u001b[0m\u001b[0;34m,\u001b[0m \u001b[0mname\u001b[0m\u001b[0;34m:\u001b[0m \u001b[0mstr\u001b[0m\u001b[0;34m,\u001b[0m \u001b[0mvalue\u001b[0m\u001b[0;34m)\u001b[0m \u001b[0;34m->\u001b[0m \u001b[0;32mNone\u001b[0m\u001b[0;34m:\u001b[0m\u001b[0;34m\u001b[0m\u001b[0;34m\u001b[0m\u001b[0m\n",
      "\u001b[0;31mAttributeError\u001b[0m: 'DataFrame' object has no attribute 'unique'"
     ]
    }
   ],
   "source": [
    "s_total.unique(['neighborhood'])"
   ]
  },
  {
   "cell_type": "markdown",
   "metadata": {},
   "source": [
    "## Conclusion \n",
    "By looking at the signs in pittsburgh data set I found that Brookline is the safest neighborhood to J-walk. I first looked at all of the sign types that the data set had and created a smaller one with just the sign types I deemed to be pedstrian friendly. I grabbed the count of each sign type in eacah neighborhood. I gave all the sign types diffrent wieghts based on how much I belived that sign would cause a driver to look out for pedstrians in the street. After applying the weight to the sign count I added the points up of each neighborhood as an overall metric to base the safest neighborhood to J-walk in. I grew up in pittsburgh but have still only been to brookline a handful of times adn have never J-walked there so i personally cannot judge this. I do belive that others are ranked correctly though, for example sq. hill south is very high on the list and this makes sense, it has lots of schools, snyogauges, residental housing and buisnesses."
   ]
  },
  {
   "cell_type": "markdown",
   "metadata": {},
   "source": [
    "## SPEED HUMP SUB METRIC BY: STEPHEN RANDALL\n",
    "**Welcome to the speed hump submetric, here we will determine which neighborhood in Pittsburgh is the safest to drive/walk or bike in by looking at how many speed humps are in each neighborhood that we have data for!**"
   ]
  },
  {
   "cell_type": "code",
   "execution_count": 7,
   "metadata": {},
   "outputs": [
    {
     "data": {
      "text/html": [
       "<div>\n",
       "<style scoped>\n",
       "    .dataframe tbody tr th:only-of-type {\n",
       "        vertical-align: middle;\n",
       "    }\n",
       "\n",
       "    .dataframe tbody tr th {\n",
       "        vertical-align: top;\n",
       "    }\n",
       "\n",
       "    .dataframe thead th {\n",
       "        text-align: right;\n",
       "    }\n",
       "</style>\n",
       "<table border=\"1\" class=\"dataframe\">\n",
       "  <thead>\n",
       "    <tr style=\"text-align: right;\">\n",
       "      <th></th>\n",
       "      <th>id</th>\n",
       "      <th>hump_id</th>\n",
       "      <th>locator_address_number</th>\n",
       "      <th>locator_street</th>\n",
       "      <th>pavement</th>\n",
       "      <th>speed_hump_material</th>\n",
       "      <th>neighborhood</th>\n",
       "      <th>council_district</th>\n",
       "      <th>ward</th>\n",
       "      <th>tract</th>\n",
       "      <th>public_works_division</th>\n",
       "      <th>pli_division</th>\n",
       "      <th>police_zone</th>\n",
       "      <th>fire_zone</th>\n",
       "      <th>latitude</th>\n",
       "      <th>longitude</th>\n",
       "    </tr>\n",
       "  </thead>\n",
       "  <tbody>\n",
       "    <tr>\n",
       "      <th>0</th>\n",
       "      <td>430808404</td>\n",
       "      <td>1</td>\n",
       "      <td>4337.0</td>\n",
       "      <td>Saline St</td>\n",
       "      <td>9257</td>\n",
       "      <td>Asphalt</td>\n",
       "      <td>Squirrel Hill South</td>\n",
       "      <td>5</td>\n",
       "      <td>14</td>\n",
       "      <td>42003141400</td>\n",
       "      <td>3</td>\n",
       "      <td>14</td>\n",
       "      <td>4</td>\n",
       "      <td>2-15</td>\n",
       "      <td>40.419835</td>\n",
       "      <td>-79.926062</td>\n",
       "    </tr>\n",
       "    <tr>\n",
       "      <th>1</th>\n",
       "      <td>1520886592</td>\n",
       "      <td>2</td>\n",
       "      <td>NaN</td>\n",
       "      <td>Summerset Dr</td>\n",
       "      <td>15346</td>\n",
       "      <td>NaN</td>\n",
       "      <td>Squirrel Hill South</td>\n",
       "      <td>5</td>\n",
       "      <td>14</td>\n",
       "      <td>42003141400</td>\n",
       "      <td>3</td>\n",
       "      <td>14</td>\n",
       "      <td>4</td>\n",
       "      <td>2-20</td>\n",
       "      <td>40.425040</td>\n",
       "      <td>-79.912040</td>\n",
       "    </tr>\n",
       "    <tr>\n",
       "      <th>2</th>\n",
       "      <td>858537521</td>\n",
       "      <td>3</td>\n",
       "      <td>511.0</td>\n",
       "      <td>Gold Way</td>\n",
       "      <td>1755</td>\n",
       "      <td>Asphalt</td>\n",
       "      <td>North Oakland</td>\n",
       "      <td>6</td>\n",
       "      <td>5</td>\n",
       "      <td>42003562000</td>\n",
       "      <td>3</td>\n",
       "      <td>5</td>\n",
       "      <td>4</td>\n",
       "      <td>2-23</td>\n",
       "      <td>40.456746</td>\n",
       "      <td>-79.954521</td>\n",
       "    </tr>\n",
       "    <tr>\n",
       "      <th>3</th>\n",
       "      <td>297775878</td>\n",
       "      <td>4</td>\n",
       "      <td>547.0</td>\n",
       "      <td>Gold Way</td>\n",
       "      <td>1755</td>\n",
       "      <td>Asphalt</td>\n",
       "      <td>North Oakland</td>\n",
       "      <td>6</td>\n",
       "      <td>5</td>\n",
       "      <td>42003562000</td>\n",
       "      <td>3</td>\n",
       "      <td>5</td>\n",
       "      <td>4</td>\n",
       "      <td>2-23</td>\n",
       "      <td>40.457333</td>\n",
       "      <td>-79.954899</td>\n",
       "    </tr>\n",
       "    <tr>\n",
       "      <th>4</th>\n",
       "      <td>1061197751</td>\n",
       "      <td>5</td>\n",
       "      <td>593.0</td>\n",
       "      <td>Gold Way</td>\n",
       "      <td>1755</td>\n",
       "      <td>Asphalt</td>\n",
       "      <td>North Oakland</td>\n",
       "      <td>6</td>\n",
       "      <td>5</td>\n",
       "      <td>42003562000</td>\n",
       "      <td>3</td>\n",
       "      <td>5</td>\n",
       "      <td>4</td>\n",
       "      <td>2-23</td>\n",
       "      <td>40.458061</td>\n",
       "      <td>-79.955355</td>\n",
       "    </tr>\n",
       "    <tr>\n",
       "      <th>5</th>\n",
       "      <td>25169591</td>\n",
       "      <td>10</td>\n",
       "      <td>4224.0</td>\n",
       "      <td>Saline St</td>\n",
       "      <td>4673</td>\n",
       "      <td>Asphalt</td>\n",
       "      <td>Squirrel Hill South</td>\n",
       "      <td>5</td>\n",
       "      <td>15</td>\n",
       "      <td>42003141400</td>\n",
       "      <td>3</td>\n",
       "      <td>15</td>\n",
       "      <td>4</td>\n",
       "      <td>2-15</td>\n",
       "      <td>40.422239</td>\n",
       "      <td>-79.926208</td>\n",
       "    </tr>\n",
       "    <tr>\n",
       "      <th>6</th>\n",
       "      <td>2056880845</td>\n",
       "      <td>11</td>\n",
       "      <td>2146.0</td>\n",
       "      <td>Jacob St</td>\n",
       "      <td>17688</td>\n",
       "      <td>Asphalt</td>\n",
       "      <td>Brookline</td>\n",
       "      <td>4</td>\n",
       "      <td>32</td>\n",
       "      <td>42003320600</td>\n",
       "      <td>5</td>\n",
       "      <td>32</td>\n",
       "      <td>6</td>\n",
       "      <td>4-25</td>\n",
       "      <td>40.391643</td>\n",
       "      <td>-79.999307</td>\n",
       "    </tr>\n",
       "    <tr>\n",
       "      <th>7</th>\n",
       "      <td>1735565853</td>\n",
       "      <td>12</td>\n",
       "      <td>2082.0</td>\n",
       "      <td>Jacob St</td>\n",
       "      <td>17688</td>\n",
       "      <td>Asphalt</td>\n",
       "      <td>Brookline</td>\n",
       "      <td>4</td>\n",
       "      <td>32</td>\n",
       "      <td>42003320600</td>\n",
       "      <td>5</td>\n",
       "      <td>32</td>\n",
       "      <td>6</td>\n",
       "      <td>4-25</td>\n",
       "      <td>40.392425</td>\n",
       "      <td>-79.999259</td>\n",
       "    </tr>\n",
       "    <tr>\n",
       "      <th>8</th>\n",
       "      <td>857069875</td>\n",
       "      <td>13</td>\n",
       "      <td>2013.0</td>\n",
       "      <td>Jacob St</td>\n",
       "      <td>17688</td>\n",
       "      <td>Asphalt</td>\n",
       "      <td>Brookline</td>\n",
       "      <td>4</td>\n",
       "      <td>32</td>\n",
       "      <td>42003320600</td>\n",
       "      <td>5</td>\n",
       "      <td>32</td>\n",
       "      <td>6</td>\n",
       "      <td>4-25</td>\n",
       "      <td>40.393264</td>\n",
       "      <td>-79.999401</td>\n",
       "    </tr>\n",
       "    <tr>\n",
       "      <th>9</th>\n",
       "      <td>1822275525</td>\n",
       "      <td>14</td>\n",
       "      <td>1937.0</td>\n",
       "      <td>Jacob St</td>\n",
       "      <td>17688</td>\n",
       "      <td>Asphalt</td>\n",
       "      <td>Brookline</td>\n",
       "      <td>4</td>\n",
       "      <td>32</td>\n",
       "      <td>42003320600</td>\n",
       "      <td>5</td>\n",
       "      <td>32</td>\n",
       "      <td>6</td>\n",
       "      <td>4-25</td>\n",
       "      <td>40.394180</td>\n",
       "      <td>-79.999611</td>\n",
       "    </tr>\n",
       "  </tbody>\n",
       "</table>\n",
       "</div>"
      ],
      "text/plain": [
       "           id  hump_id  locator_address_number locator_street  pavement  \\\n",
       "0   430808404        1                  4337.0      Saline St      9257   \n",
       "1  1520886592        2                     NaN   Summerset Dr     15346   \n",
       "2   858537521        3                   511.0       Gold Way      1755   \n",
       "3   297775878        4                   547.0       Gold Way      1755   \n",
       "4  1061197751        5                   593.0       Gold Way      1755   \n",
       "5    25169591       10                  4224.0      Saline St      4673   \n",
       "6  2056880845       11                  2146.0       Jacob St     17688   \n",
       "7  1735565853       12                  2082.0       Jacob St     17688   \n",
       "8   857069875       13                  2013.0       Jacob St     17688   \n",
       "9  1822275525       14                  1937.0       Jacob St     17688   \n",
       "\n",
       "  speed_hump_material         neighborhood  council_district  ward  \\\n",
       "0             Asphalt  Squirrel Hill South                 5    14   \n",
       "1                 NaN  Squirrel Hill South                 5    14   \n",
       "2             Asphalt        North Oakland                 6     5   \n",
       "3             Asphalt        North Oakland                 6     5   \n",
       "4             Asphalt        North Oakland                 6     5   \n",
       "5             Asphalt  Squirrel Hill South                 5    15   \n",
       "6             Asphalt            Brookline                 4    32   \n",
       "7             Asphalt            Brookline                 4    32   \n",
       "8             Asphalt            Brookline                 4    32   \n",
       "9             Asphalt            Brookline                 4    32   \n",
       "\n",
       "         tract  public_works_division  pli_division  police_zone fire_zone  \\\n",
       "0  42003141400                      3            14            4      2-15   \n",
       "1  42003141400                      3            14            4      2-20   \n",
       "2  42003562000                      3             5            4      2-23   \n",
       "3  42003562000                      3             5            4      2-23   \n",
       "4  42003562000                      3             5            4      2-23   \n",
       "5  42003141400                      3            15            4      2-15   \n",
       "6  42003320600                      5            32            6      4-25   \n",
       "7  42003320600                      5            32            6      4-25   \n",
       "8  42003320600                      5            32            6      4-25   \n",
       "9  42003320600                      5            32            6      4-25   \n",
       "\n",
       "    latitude  longitude  \n",
       "0  40.419835 -79.926062  \n",
       "1  40.425040 -79.912040  \n",
       "2  40.456746 -79.954521  \n",
       "3  40.457333 -79.954899  \n",
       "4  40.458061 -79.955355  \n",
       "5  40.422239 -79.926208  \n",
       "6  40.391643 -79.999307  \n",
       "7  40.392425 -79.999259  \n",
       "8  40.393264 -79.999401  \n",
       "9  40.394180 -79.999611  "
      ]
     },
     "execution_count": 7,
     "metadata": {},
     "output_type": "execute_result"
    }
   ],
   "source": [
    "import pandas as sb\n",
    "myHumps = sb.read_csv(\"speedhumps.csv\")\n",
    "myHumps.head(10)"
   ]
  },
  {
   "cell_type": "markdown",
   "metadata": {},
   "source": [
    "**Now we're going to concatenate our data set to only the information that is relevant. To do so we create a new dataframe that only contains the hump_id, id, Street, and neighborhood**"
   ]
  },
  {
   "cell_type": "code",
   "execution_count": 11,
   "metadata": {},
   "outputs": [
    {
     "data": {
      "text/html": [
       "<div>\n",
       "<style scoped>\n",
       "    .dataframe tbody tr th:only-of-type {\n",
       "        vertical-align: middle;\n",
       "    }\n",
       "\n",
       "    .dataframe tbody tr th {\n",
       "        vertical-align: top;\n",
       "    }\n",
       "\n",
       "    .dataframe thead th {\n",
       "        text-align: right;\n",
       "    }\n",
       "</style>\n",
       "<table border=\"1\" class=\"dataframe\">\n",
       "  <thead>\n",
       "    <tr style=\"text-align: right;\">\n",
       "      <th></th>\n",
       "      <th>id</th>\n",
       "      <th>hump_id</th>\n",
       "      <th>locator_street</th>\n",
       "      <th>neighborhood</th>\n",
       "    </tr>\n",
       "  </thead>\n",
       "  <tbody>\n",
       "    <tr>\n",
       "      <th>0</th>\n",
       "      <td>430808404</td>\n",
       "      <td>1</td>\n",
       "      <td>Saline St</td>\n",
       "      <td>Squirrel Hill South</td>\n",
       "    </tr>\n",
       "    <tr>\n",
       "      <th>1</th>\n",
       "      <td>1520886592</td>\n",
       "      <td>2</td>\n",
       "      <td>Summerset Dr</td>\n",
       "      <td>Squirrel Hill South</td>\n",
       "    </tr>\n",
       "    <tr>\n",
       "      <th>2</th>\n",
       "      <td>858537521</td>\n",
       "      <td>3</td>\n",
       "      <td>Gold Way</td>\n",
       "      <td>North Oakland</td>\n",
       "    </tr>\n",
       "    <tr>\n",
       "      <th>3</th>\n",
       "      <td>297775878</td>\n",
       "      <td>4</td>\n",
       "      <td>Gold Way</td>\n",
       "      <td>North Oakland</td>\n",
       "    </tr>\n",
       "    <tr>\n",
       "      <th>4</th>\n",
       "      <td>1061197751</td>\n",
       "      <td>5</td>\n",
       "      <td>Gold Way</td>\n",
       "      <td>North Oakland</td>\n",
       "    </tr>\n",
       "    <tr>\n",
       "      <th>5</th>\n",
       "      <td>25169591</td>\n",
       "      <td>10</td>\n",
       "      <td>Saline St</td>\n",
       "      <td>Squirrel Hill South</td>\n",
       "    </tr>\n",
       "    <tr>\n",
       "      <th>6</th>\n",
       "      <td>2056880845</td>\n",
       "      <td>11</td>\n",
       "      <td>Jacob St</td>\n",
       "      <td>Brookline</td>\n",
       "    </tr>\n",
       "    <tr>\n",
       "      <th>7</th>\n",
       "      <td>1735565853</td>\n",
       "      <td>12</td>\n",
       "      <td>Jacob St</td>\n",
       "      <td>Brookline</td>\n",
       "    </tr>\n",
       "    <tr>\n",
       "      <th>8</th>\n",
       "      <td>857069875</td>\n",
       "      <td>13</td>\n",
       "      <td>Jacob St</td>\n",
       "      <td>Brookline</td>\n",
       "    </tr>\n",
       "    <tr>\n",
       "      <th>9</th>\n",
       "      <td>1822275525</td>\n",
       "      <td>14</td>\n",
       "      <td>Jacob St</td>\n",
       "      <td>Brookline</td>\n",
       "    </tr>\n",
       "  </tbody>\n",
       "</table>\n",
       "</div>"
      ],
      "text/plain": [
       "           id  hump_id locator_street         neighborhood\n",
       "0   430808404        1      Saline St  Squirrel Hill South\n",
       "1  1520886592        2   Summerset Dr  Squirrel Hill South\n",
       "2   858537521        3       Gold Way        North Oakland\n",
       "3   297775878        4       Gold Way        North Oakland\n",
       "4  1061197751        5       Gold Way        North Oakland\n",
       "5    25169591       10      Saline St  Squirrel Hill South\n",
       "6  2056880845       11       Jacob St            Brookline\n",
       "7  1735565853       12       Jacob St            Brookline\n",
       "8   857069875       13       Jacob St            Brookline\n",
       "9  1822275525       14       Jacob St            Brookline"
      ]
     },
     "execution_count": 11,
     "metadata": {},
     "output_type": "execute_result"
    }
   ],
   "source": [
    "import pandas as sb\n",
    "myHumps = sb.read_csv(\"speedhumps.csv\")\n",
    "myHumps.drop(['locator_address_number', 'pavement', 'speed_hump_material', 'council_district', 'ward', 'tract', 'public_works_division', 'pli_division', 'police_zone', 'fire_zone', 'latitude', 'longitude'], axis =1, inplace = True)\n",
    "myHumps.head(10)"
   ]
  },
  {
   "cell_type": "markdown",
   "metadata": {},
   "source": [
    "**Next we want to establish how many neighborhoods we have data for in this dataset. To do this we are going to loop through our dataset and add every new neighborhood into a String array (or list)!**"
   ]
  },
  {
   "cell_type": "code",
   "execution_count": 40,
   "metadata": {},
   "outputs": [
    {
     "name": "stdout",
     "output_type": "stream",
     "text": [
      "['Squirrel Hill South', 'North Oakland', 'Brookline', 'Bloomfield', 'Polish Hill', 'Homewood South', 'Mount Washington', 'South Side Flats', 'Central Oakland', 'Squirrel Hill North', 'Upper Hill', 'Highland Park', 'Carrick', 'Perry North', 'South Side Slopes', 'Garfield', 'Stanton Heights', 'Overbrook']\n"
     ]
    }
   ],
   "source": [
    "import pandas as sb\n",
    "myHumps = sb.read_csv(\"speedhumps.csv\")\n",
    "myHumps.drop(['locator_address_number', 'pavement', 'speed_hump_material', 'council_district', 'ward', 'tract', 'public_works_division', 'pli_division', 'police_zone', 'fire_zone', 'latitude', 'longitude'], axis =1, inplace = True)\n",
    "myHumps.head(10)\n",
    "generalNeigh = myHumps[\"neighborhood\"].tolist()\n",
    "uniqueList = []\n",
    "for x in generalNeigh:\n",
    "    if x not in uniqueList:\n",
    "        uniqueList.append(x)\n",
    "print(uniqueList)\n"
   ]
  },
  {
   "cell_type": "markdown",
   "metadata": {},
   "source": [
    "**Next we want to get the frequency of each of these neighborhoods in our data set as this will tell us how many speed bumps there are in each neighborhood!**"
   ]
  },
  {
   "cell_type": "code",
   "execution_count": 43,
   "metadata": {},
   "outputs": [
    {
     "name": "stdout",
     "output_type": "stream",
     "text": [
      "['Squirrel Hill South', 'North Oakland', 'Brookline', 'Bloomfield', 'Polish Hill', 'Homewood South', 'Mount Washington', 'South Side Flats', 'Central Oakland', 'Squirrel Hill North', 'Upper Hill', 'Highland Park', 'Carrick', 'Perry North', 'South Side Slopes', 'Garfield', 'Stanton Heights', 'Overbrook']\n",
      "Squirrel Hill South    18\n",
      "Carrick                 9\n",
      "Polish Hill             6\n",
      "North Oakland           6\n",
      "Upper Hill              4\n",
      "Brookline               4\n",
      "Homewood South          4\n",
      "South Side Slopes       4\n",
      "Perry North             4\n",
      "Garfield                3\n",
      "Squirrel Hill North     3\n",
      "South Side Flats        3\n",
      "Mount Washington        3\n",
      "Bloomfield              3\n",
      "Highland Park           2\n",
      "Central Oakland         1\n",
      "Stanton Heights         1\n",
      "Overbrook               1\n",
      "Name: neighborhood, dtype: int64\n"
     ]
    }
   ],
   "source": [
    "import pandas as sb\n",
    "myHumps = sb.read_csv(\"speedhumps.csv\")\n",
    "myHumps.drop(['locator_address_number', 'pavement', 'speed_hump_material', 'council_district', 'ward', 'tract', 'public_works_division', 'pli_division', 'police_zone', 'fire_zone', 'latitude', 'longitude'], axis =1, inplace = True)\n",
    "myHumps.head(10)\n",
    "generalNeigh = myHumps[\"neighborhood\"].tolist()\n",
    "uniqueList = []\n",
    "for x in generalNeigh:\n",
    "    if x not in uniqueList:\n",
    "        uniqueList.append(x)\n",
    "print(uniqueList)\n",
    "counts = myHumps[\"neighborhood\"].value_counts()\n",
    "print(counts)"
   ]
  },
  {
   "cell_type": "markdown",
   "metadata": {},
   "source": [
    "**Okay great! Now we need to create a graph to model our findings!**"
   ]
  },
  {
   "cell_type": "code",
   "execution_count": 44,
   "metadata": {},
   "outputs": [
    {
     "data": {
      "text/plain": [
       "<matplotlib.axes._subplots.AxesSubplot at 0x7f866fa3a550>"
      ]
     },
     "execution_count": 44,
     "metadata": {},
     "output_type": "execute_result"
    },
    {
     "data": {
      "image/png": "[encoded data removed]",
      "text/plain": [
       "<Figure size 1080x648 with 1 Axes>"
      ]
     },
     "metadata": {
      "needs_background": "light"
     },
     "output_type": "display_data"
    }
   ],
   "source": [
    "counts.plot.bar(title = \"Speed Bumps Per Neighborhood\", figsize=(15, 9), stacked = True)"
   ]
  },
  {
   "cell_type": "markdown",
   "metadata": {},
   "source": [
    "## Conclusion:\n",
    "**The dataset I used was the \"City of Pittsburgh Speed Humps: Speed Humps\" dataset from the City of Pittsburgh Speed Humps through the Western Pennsylvania Regional Public Data Center. Our group decided to choose the safest neighborhood to drive/be a pedestrian. In my case I'm making the claim that the best neighborhood to drive or be a pedestrian in is best-Squirrel Hill South. This is because it had a staggering 18 speed bumps in the neighborhood (this is staggering because of the huge drop-off between first and second place. Runner-up's were Carrick and Polish Hill/North Oakland with 9 and 6 speed bumps respectively.**\n",
    "\n",
    "  \n",
    "**In my opinion my data effectively represents which neighborhood is the best to drive and/or be a pedestrian in because speed bumps are essential ensuring that you can't overspeed. Preventing speeding is one of the most important and effective ways to ensure driver and pedestrian safety. According to the National Highway Transportation Safety Administration or NHTSA, speeding is the leading factor in over 25 percent of fatal accidents each year. By having more speed bumps it makes it harder for drivers to go for extended periods maintaining dangerous speeds.**"
   ]
  },
  {
   "cell_type": "markdown",
   "metadata": {},
   "source": [
    "## Drawing Our General Conclusion!:\n",
    "**First we wanted to centralize our scoring so to do this we decided to make a jaywalk coefficient score. This score will be obtained by mutiplying the score from the analysis Rory did on average daily car traffic/median speed data by 1.25 and summing it with the scores from Holden and Stephen's analysis. We decided to multiply these scores cause we viewed these two data sets to be the most important in determining the safety of a neighborhood to jaywalk in.**"
   ]
  },
  {
   "cell_type": "code",
   "execution_count": null,
   "metadata": {},
   "outputs": [],
   "source": []
  }
 ],
 "metadata": {
  "kernelspec": {
   "display_name": "Python 3",
   "language": "python",
   "name": "python3"
  },
  "language_info": {
   "codemirror_mode": {
    "name": "ipython",
    "version": 3
   },
   "file_extension": ".py",
   "mimetype": "text/x-python",
   "name": "python",
   "nbconvert_exporter": "python",
   "pygments_lexer": "ipython3",
   "version": "3.8.3"
  }
 },
 "nbformat": 4,
 "nbformat_minor": 4
}
